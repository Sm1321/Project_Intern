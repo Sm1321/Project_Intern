{
 "cells": [
  {
   "cell_type": "code",
   "execution_count": 20,
   "metadata": {},
   "outputs": [],
   "source": [
    "### Regression Problem\n"
   ]
  },
  {
   "cell_type": "code",
   "execution_count": 21,
   "metadata": {},
   "outputs": [
    {
     "name": "stdout",
     "output_type": "stream",
     "text": [
      "Dataset created with shape: (10000, 16)\n"
     ]
    }
   ],
   "source": [
    "import pandas as pd\n",
    "import numpy as np\n",
    "from faker import Faker\n",
    "\n",
    "# Initialize Faker for generating synthetic names\n",
    "fake = Faker()\n",
    "\n",
    "# Set the seed for reproducibility\n",
    "np.random.seed(50)\n",
    "\n",
    "# Number of records to generate\n",
    "num_records = 10000 \n",
    "\n",
    "# Generate customer_id\n",
    "customer_id = [i for i in range(1, num_records + 1)]\n",
    "\n",
    "# Generate customer_name using Faker (unique names)\n",
    "customer_name = [fake.name() for _ in range(num_records)]\n",
    "\n",
    "# Generate random age (more realistic distribution: bell curve centered around 40)\n",
    "age = np.random.normal(loc=40, scale=15, size=num_records).astype(int)\n",
    "age = np.clip(age, 18, 70)  # Ensure ages are within the range of 18 to 70\n",
    "\n",
    "# Generate random income_level (with skewed distribution to reflect market trends)\n",
    "income_level = np.random.choice(['Low', 'Medium', 'High'], p=[0.4, 0.4, 0.2], size=num_records)\n",
    "\n",
    "# Generate days_since_last_purchase (skewed distribution: most customers will have recent activity)\n",
    "days_since_last_purchase = np.random.lognormal(mean=1, sigma=1, size=num_records).astype(int)\n",
    "days_since_last_purchase = np.clip(days_since_last_purchase, 1, 365)\n",
    "\n",
    "# Generate active_days (realistic spread across the year)\n",
    "active_days = np.random.randint(30, 366, size=num_records)\n",
    "\n",
    "# Generate total_number_of_purchases (skewed to simulate frequent buyers)\n",
    "total_number_of_purchases = np.random.normal(loc=1000, scale=1500, size=num_records).astype(int)\n",
    "total_number_of_purchases = np.clip(total_number_of_purchases, 100, 5000)\n",
    "\n",
    "# Generate total_amount_spent (log-normal distribution for spending behavior)\n",
    "total_amount_spent = np.random.lognormal(mean=10, sigma=1.5, size=num_records)\n",
    "total_amount_spent = np.clip(total_amount_spent, 500, 50000)\n",
    "\n",
    "# Calculate avg_amount_spent (ensure relationship with purchases and spending)\n",
    "avg_amount_spent = total_amount_spent / total_number_of_purchases\n",
    "\n",
    "# Generate bonus_amount_received as a function of total_purchases, spending, and recent activity\n",
    "bonus_amount_received = (total_amount_spent * 0.05 / 100) + (total_number_of_purchases * 0.02)\n",
    "\n",
    "# Generate additional features\n",
    "days_since_first_purchase = np.random.randint(1, 1001, size=num_records)\n",
    "purchase_frequency = np.random.uniform(0.5, 2.0, size=num_records)\n",
    "last_purchase_amount = np.random.uniform(50, 5000, size=num_records)\n",
    "seasonal_purchase_behavior = np.random.choice([0, 1], size=num_records)  # 1 if seasonal buyer\n",
    "refunds = np.random.randint(0, 6, size=num_records)\n",
    "location = np.random.choice(['Urban', 'Suburban', 'Rural'], size=num_records)\n",
    "\n",
    "# Introduce more realism by correlating features\n",
    "days_since_last_purchase = np.clip(days_since_first_purchase - active_days, 1, 365)\n",
    "total_amount_spent = np.where(seasonal_purchase_behavior == 1, \n",
    "                               total_amount_spent * np.random.uniform(1.2, 1.5), \n",
    "                               total_amount_spent)\n",
    "\n",
    "# Inject some outliers for realism\n",
    "outlier_indices = np.random.choice(num_records, size=int(0.01 * num_records), replace=False)\n",
    "total_amount_spent[outlier_indices] *= 10  # Extreme spenders\n",
    "\n",
    "# Create the dataframe with new features\n",
    "synthetic_df = pd.DataFrame({\n",
    "    'customer_id': customer_id,\n",
    "    'customer_name': customer_name,\n",
    "    'age': age,\n",
    "    'income_level': income_level,\n",
    "    'days_since_last_purchase': days_since_last_purchase,\n",
    "    'active_days': active_days,\n",
    "    'total_number_of_purchases': total_number_of_purchases,\n",
    "    'total_amount_spent': total_amount_spent,\n",
    "    'avg_amount_spent': avg_amount_spent,\n",
    "    'days_since_first_purchase': days_since_first_purchase,\n",
    "    'purchase_frequency': purchase_frequency,\n",
    "    'last_purchase_amount': last_purchase_amount,\n",
    "    'seasonal_purchase_behavior': seasonal_purchase_behavior,\n",
    "    'refunds': refunds,\n",
    "    'location': location,\n",
    "    'bonus_amount_received': bonus_amount_received,\n",
    "})\n",
    "\n",
    "# Save to CSV\n",
    "synthetic_df.to_csv('synthetic_customer_data_final.csv', index=False)\n",
    "\n",
    "# Print summary\n",
    "print(\"Dataset created with shape:\", synthetic_df.shape)\n"
   ]
  },
  {
   "cell_type": "code",
   "execution_count": 22,
   "metadata": {},
   "outputs": [
    {
     "data": {
      "text/html": [
       "<div>\n",
       "<style scoped>\n",
       "    .dataframe tbody tr th:only-of-type {\n",
       "        vertical-align: middle;\n",
       "    }\n",
       "\n",
       "    .dataframe tbody tr th {\n",
       "        vertical-align: top;\n",
       "    }\n",
       "\n",
       "    .dataframe thead th {\n",
       "        text-align: right;\n",
       "    }\n",
       "</style>\n",
       "<table border=\"1\" class=\"dataframe\">\n",
       "  <thead>\n",
       "    <tr style=\"text-align: right;\">\n",
       "      <th></th>\n",
       "      <th>customer_id</th>\n",
       "      <th>customer_name</th>\n",
       "      <th>age</th>\n",
       "      <th>income_level</th>\n",
       "      <th>days_since_last_purchase</th>\n",
       "      <th>active_days</th>\n",
       "      <th>total_number_of_purchases</th>\n",
       "      <th>total_amount_spent</th>\n",
       "      <th>avg_amount_spent</th>\n",
       "      <th>days_since_first_purchase</th>\n",
       "      <th>purchase_frequency</th>\n",
       "      <th>last_purchase_amount</th>\n",
       "      <th>seasonal_purchase_behavior</th>\n",
       "      <th>refunds</th>\n",
       "      <th>location</th>\n",
       "      <th>bonus_amount_received</th>\n",
       "    </tr>\n",
       "  </thead>\n",
       "  <tbody>\n",
       "    <tr>\n",
       "      <th>0</th>\n",
       "      <td>1</td>\n",
       "      <td>Kyle Rogers</td>\n",
       "      <td>18</td>\n",
       "      <td>Medium</td>\n",
       "      <td>365</td>\n",
       "      <td>217</td>\n",
       "      <td>100</td>\n",
       "      <td>45652.568412</td>\n",
       "      <td>456.525684</td>\n",
       "      <td>877</td>\n",
       "      <td>0.706352</td>\n",
       "      <td>2987.613718</td>\n",
       "      <td>0</td>\n",
       "      <td>5</td>\n",
       "      <td>Rural</td>\n",
       "      <td>24.826284</td>\n",
       "    </tr>\n",
       "    <tr>\n",
       "      <th>1</th>\n",
       "      <td>2</td>\n",
       "      <td>Brian Schwartz</td>\n",
       "      <td>39</td>\n",
       "      <td>Low</td>\n",
       "      <td>365</td>\n",
       "      <td>258</td>\n",
       "      <td>2653</td>\n",
       "      <td>4277.094805</td>\n",
       "      <td>1.612173</td>\n",
       "      <td>911</td>\n",
       "      <td>1.480141</td>\n",
       "      <td>388.023592</td>\n",
       "      <td>0</td>\n",
       "      <td>0</td>\n",
       "      <td>Suburban</td>\n",
       "      <td>55.198547</td>\n",
       "    </tr>\n",
       "    <tr>\n",
       "      <th>2</th>\n",
       "      <td>3</td>\n",
       "      <td>Brooke Hoffman</td>\n",
       "      <td>30</td>\n",
       "      <td>Low</td>\n",
       "      <td>1</td>\n",
       "      <td>250</td>\n",
       "      <td>476</td>\n",
       "      <td>48111.691777</td>\n",
       "      <td>101.074983</td>\n",
       "      <td>96</td>\n",
       "      <td>1.678426</td>\n",
       "      <td>176.329616</td>\n",
       "      <td>0</td>\n",
       "      <td>0</td>\n",
       "      <td>Urban</td>\n",
       "      <td>33.575846</td>\n",
       "    </tr>\n",
       "    <tr>\n",
       "      <th>3</th>\n",
       "      <td>4</td>\n",
       "      <td>Thomas Allen</td>\n",
       "      <td>18</td>\n",
       "      <td>Medium</td>\n",
       "      <td>365</td>\n",
       "      <td>77</td>\n",
       "      <td>100</td>\n",
       "      <td>47829.067377</td>\n",
       "      <td>478.290674</td>\n",
       "      <td>702</td>\n",
       "      <td>1.511669</td>\n",
       "      <td>2325.794544</td>\n",
       "      <td>0</td>\n",
       "      <td>4</td>\n",
       "      <td>Urban</td>\n",
       "      <td>25.914534</td>\n",
       "    </tr>\n",
       "    <tr>\n",
       "      <th>4</th>\n",
       "      <td>5</td>\n",
       "      <td>Joshua Lopez</td>\n",
       "      <td>61</td>\n",
       "      <td>Medium</td>\n",
       "      <td>365</td>\n",
       "      <td>312</td>\n",
       "      <td>948</td>\n",
       "      <td>15231.434496</td>\n",
       "      <td>16.066914</td>\n",
       "      <td>836</td>\n",
       "      <td>0.731040</td>\n",
       "      <td>1578.717741</td>\n",
       "      <td>0</td>\n",
       "      <td>2</td>\n",
       "      <td>Urban</td>\n",
       "      <td>26.575717</td>\n",
       "    </tr>\n",
       "  </tbody>\n",
       "</table>\n",
       "</div>"
      ],
      "text/plain": [
       "   customer_id   customer_name  age income_level  days_since_last_purchase  \\\n",
       "0            1     Kyle Rogers   18       Medium                       365   \n",
       "1            2  Brian Schwartz   39          Low                       365   \n",
       "2            3  Brooke Hoffman   30          Low                         1   \n",
       "3            4    Thomas Allen   18       Medium                       365   \n",
       "4            5    Joshua Lopez   61       Medium                       365   \n",
       "\n",
       "   active_days  total_number_of_purchases  total_amount_spent  \\\n",
       "0          217                        100        45652.568412   \n",
       "1          258                       2653         4277.094805   \n",
       "2          250                        476        48111.691777   \n",
       "3           77                        100        47829.067377   \n",
       "4          312                        948        15231.434496   \n",
       "\n",
       "   avg_amount_spent  days_since_first_purchase  purchase_frequency  \\\n",
       "0        456.525684                        877            0.706352   \n",
       "1          1.612173                        911            1.480141   \n",
       "2        101.074983                         96            1.678426   \n",
       "3        478.290674                        702            1.511669   \n",
       "4         16.066914                        836            0.731040   \n",
       "\n",
       "   last_purchase_amount  seasonal_purchase_behavior  refunds  location  \\\n",
       "0           2987.613718                           0        5     Rural   \n",
       "1            388.023592                           0        0  Suburban   \n",
       "2            176.329616                           0        0     Urban   \n",
       "3           2325.794544                           0        4     Urban   \n",
       "4           1578.717741                           0        2     Urban   \n",
       "\n",
       "   bonus_amount_received  \n",
       "0              24.826284  \n",
       "1              55.198547  \n",
       "2              33.575846  \n",
       "3              25.914534  \n",
       "4              26.575717  "
      ]
     },
     "execution_count": 22,
     "metadata": {},
     "output_type": "execute_result"
    }
   ],
   "source": [
    "synthetic_df.head()"
   ]
  },
  {
   "cell_type": "code",
   "execution_count": 23,
   "metadata": {},
   "outputs": [
    {
     "data": {
      "text/plain": [
       "10000"
      ]
     },
     "execution_count": 23,
     "metadata": {},
     "output_type": "execute_result"
    }
   ],
   "source": [
    "synthetic_df['age'].value_counts().sum()"
   ]
  },
  {
   "cell_type": "code",
   "execution_count": 24,
   "metadata": {},
   "outputs": [
    {
     "data": {
      "text/plain": [
       "125.0"
      ]
     },
     "execution_count": 24,
     "metadata": {},
     "output_type": "execute_result"
    }
   ],
   "source": [
    "synthetic_df['bonus_amount_received'].max()"
   ]
  },
  {
   "cell_type": "code",
   "execution_count": 25,
   "metadata": {},
   "outputs": [
    {
     "data": {
      "text/plain": [
       "(10000, 16)"
      ]
     },
     "execution_count": 25,
     "metadata": {},
     "output_type": "execute_result"
    }
   ],
   "source": [
    "synthetic_df.shape"
   ]
  },
  {
   "cell_type": "code",
   "execution_count": 26,
   "metadata": {},
   "outputs": [
    {
     "data": {
      "text/plain": [
       "0       24.826284\n",
       "1       55.198547\n",
       "2       33.575846\n",
       "3       25.914534\n",
       "4       26.575717\n",
       "          ...    \n",
       "9995    27.000000\n",
       "9996    67.000000\n",
       "9997    73.760000\n",
       "9998    77.510203\n",
       "9999     7.970000\n",
       "Name: bonus_amount_received, Length: 10000, dtype: float64"
      ]
     },
     "execution_count": 26,
     "metadata": {},
     "output_type": "execute_result"
    }
   ],
   "source": [
    "synthetic_df['bonus_amount_received']\n"
   ]
  },
  {
   "cell_type": "code",
   "execution_count": null,
   "metadata": {},
   "outputs": [],
   "source": []
  }
 ],
 "metadata": {
  "kernelspec": {
   "display_name": "base",
   "language": "python",
   "name": "python3"
  },
  "language_info": {
   "codemirror_mode": {
    "name": "ipython",
    "version": 3
   },
   "file_extension": ".py",
   "mimetype": "text/x-python",
   "name": "python",
   "nbconvert_exporter": "python",
   "pygments_lexer": "ipython3",
   "version": "3.12.3"
  }
 },
 "nbformat": 4,
 "nbformat_minor": 2
}
