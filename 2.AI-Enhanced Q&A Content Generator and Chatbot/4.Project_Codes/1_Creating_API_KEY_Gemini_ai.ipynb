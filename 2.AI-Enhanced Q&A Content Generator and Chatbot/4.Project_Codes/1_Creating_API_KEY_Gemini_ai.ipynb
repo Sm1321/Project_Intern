{
  "nbformat": 4,
  "nbformat_minor": 0,
  "metadata": {
    "colab": {
      "provenance": []
    },
    "kernelspec": {
      "name": "python3",
      "display_name": "Python 3"
    },
    "language_info": {
      "name": "python"
    }
  },
  "cells": [
    {
      "cell_type": "markdown",
      "source": [
        "### **Install the Python SDK**"
      ],
      "metadata": {
        "id": "qjRAaqrUC5Vl"
      }
    },
    {
      "cell_type": "code",
      "source": [
        "!pip install -q google-generativeai"
      ],
      "metadata": {
        "id": "cap2qbXeC5Hw"
      },
      "execution_count": 1,
      "outputs": []
    },
    {
      "cell_type": "markdown",
      "source": [
        "### **Import the Required Libraries**"
      ],
      "metadata": {
        "id": "XPqNVWmrDHI3"
      }
    },
    {
      "cell_type": "code",
      "execution_count": 2,
      "metadata": {
        "id": "Y1h969scCygl"
      },
      "outputs": [],
      "source": [
        "import google.generativeai as genai\n",
        "import textwrap\n",
        "from IPython.display import Markdown\n",
        "\n",
        "def to_markdown(text):\n",
        "    text = text.replace('•' , '*')\n",
        "    return Markdown(textwrap.indent(text, '> ', predicate=lambda _: True))"
      ]
    },
    {
      "cell_type": "code",
      "source": [
        "# Used to securely store your API key\n",
        "from google.colab import userdata"
      ],
      "metadata": {
        "id": "l2ABiL5rDKUE"
      },
      "execution_count": 3,
      "outputs": []
    },
    {
      "cell_type": "code",
      "source": [
        "GOOGLE_API_KEY = userdata.get(\"GOOGLE_API_KEY\")\n",
        "genai.configure(api_key = GOOGLE_API_KEY)"
      ],
      "metadata": {
        "id": "6gq79c9aDW6Q"
      },
      "execution_count": 4,
      "outputs": []
    },
    {
      "cell_type": "code",
      "source": [
        "for model in genai.list_models():\n",
        "  if 'generateContent' in  model.supported_generation_methods:\n",
        "      print(model.name)"
      ],
      "metadata": {
        "id": "kkvDZwlmDnxC",
        "colab": {
          "base_uri": "https://localhost:8080/",
          "height": 243
        },
        "outputId": "a447ec9b-9e5e-4329-aa33-7a9a2cf3ee45"
      },
      "execution_count": 5,
      "outputs": [
        {
          "output_type": "stream",
          "name": "stdout",
          "text": [
            "models/gemini-1.0-pro-latest\n",
            "models/gemini-1.0-pro\n",
            "models/gemini-pro\n",
            "models/gemini-1.0-pro-001\n",
            "models/gemini-1.0-pro-vision-latest\n",
            "models/gemini-pro-vision\n",
            "models/gemini-1.5-pro-latest\n",
            "models/gemini-1.5-pro-001\n",
            "models/gemini-1.5-pro\n",
            "models/gemini-1.5-pro-exp-0801\n",
            "models/gemini-1.5-flash-latest\n",
            "models/gemini-1.5-flash-001\n",
            "models/gemini-1.5-flash\n"
          ]
        }
      ]
    },
    {
      "cell_type": "code",
      "source": [
        "model = genai.GenerativeModel('gemini-1.5-flash')"
      ],
      "metadata": {
        "id": "f9FK_XPPDycy"
      },
      "execution_count": 6,
      "outputs": []
    },
    {
      "cell_type": "code",
      "source": [
        "#Intelligent Agents QA Forms\n",
        "# Example prompts for different question types\n",
        "prompt = 'Intelligent Agents'\n",
        "mcq_prompt = \"Generate a multiple-choice questions about intelligent agents. 100\"\n",
        "short_answer_prompt = \"Generate a short answer questions about intelligent agents 100.\"\n",
        "long_form_prompt = \"Generate a long-form questions about intelligent agents. 100\"\n",
        "\n",
        "response = model.generate_content(long_form_prompt)"
      ],
      "metadata": {
        "id": "xLoPZflKEeDY",
        "colab": {
          "base_uri": "https://localhost:8080/",
          "height": 52
        },
        "outputId": "7597766b-1536-48d3-99ef-c6df93b8e616"
      },
      "execution_count": 7,
      "outputs": [
        {
          "output_type": "stream",
          "name": "stdout",
          "text": [
            "CPU times: user 290 ms, sys: 32.2 ms, total: 322 ms\n",
            "Wall time: 19.7 s\n"
          ]
        }
      ]
    },
    {
      "cell_type": "code",
      "source": [
        "to_markdown(response.text)"
      ],
      "metadata": {
        "id": "dscjV_rvFKpU",
        "colab": {
          "base_uri": "https://localhost:8080/",
          "height": 1000
        },
        "outputId": "86517a57-a9d9-469f-fea2-5e94fe050907"
      },
      "execution_count": 8,
      "outputs": [
        {
          "output_type": "execute_result",
          "data": {
            "text/plain": [
              "<IPython.core.display.Markdown object>"
            ],
            "text/markdown": "> ## Long-Form Questions about Intelligent Agents: 100\n> \n> **Conceptual Foundations:**\n> \n> 1. How does the definition of \"intelligence\" influence our understanding of intelligent agents? Can we create truly intelligent agents without a clear understanding of intelligence itself?\n> 2. What are the key distinguishing features of an intelligent agent? How does this differ from a traditional software program?\n> 3. What are the ethical considerations involved in developing and deploying intelligent agents? How can we ensure responsible AI development?\n> 4. How does the concept of \"agency\" apply to intelligent agents? What are the implications of granting them autonomy and decision-making power?\n> 5. How can we evaluate the intelligence of an agent? What metrics should be used to measure their capabilities and performance?\n> 6. What are the philosophical implications of creating artificial intelligence? Does the development of intelligent agents challenge our understanding of consciousness and sentience?\n> 7. How does the study of intelligent agents contribute to our understanding of human intelligence and cognition?\n> 8. What are the limitations of current AI technologies and how can these be overcome in future developments?\n> 9. What are the potential risks and benefits of a future society populated by intelligent agents?\n> 10. How do intelligent agents interact with each other and with human agents? How can we ensure seamless collaboration and communication?\n> \n> **Architecture and Design:**\n> \n> 11. What are the different architectures used for designing intelligent agents? What are their strengths and weaknesses?\n> 12. How can we design agents that learn and adapt to changing environments and circumstances?\n> 13. What are the different types of knowledge representation used in intelligent agents? How can we effectively integrate knowledge from different sources?\n> 14. How can we design agents that are robust to noise, uncertainty, and incomplete information?\n> 15. What are the challenges of developing agents that can operate in complex and dynamic environments?\n> 16. How can we design agents that are capable of reasoning and problem-solving?\n> 17. What are the trade-offs involved in choosing between centralized and decentralized agent architectures?\n> 18. How can we design agents that are capable of self-preservation and self-improvement?\n> 19. What are the challenges of developing agents that can understand and respond to natural language?\n> 20. How can we design agents that can learn and adapt from human feedback and interaction?\n> \n> **Applications and Impact:**\n> \n> 21. How can intelligent agents be used to improve decision-making in various fields like healthcare, finance, and education?\n> 22. How can intelligent agents be used to personalize user experiences and provide tailored recommendations?\n> 23. How can intelligent agents be used to automate tasks and improve efficiency in various industries?\n> 24. What are the implications of intelligent agents for the future of work and the labor market?\n> 25. How can intelligent agents be used to address societal challenges like climate change, poverty, and disease?\n> 26. How can intelligent agents be used to enhance human creativity and problem-solving?\n> 27. What are the ethical considerations involved in using intelligent agents for military and defense applications?\n> 28. How can intelligent agents be used to improve accessibility and inclusivity for people with disabilities?\n> 29. What are the potential impacts of intelligent agents on human relationships and social interactions?\n> 30. How can intelligent agents be used to promote social good and address global challenges?\n> \n> **Machine Learning and Deep Learning:**\n> \n> 31. How can machine learning algorithms be used to train intelligent agents?\n> 32. What are the advantages and disadvantages of using deep learning for developing intelligent agents?\n> 33. How can we ensure that machine learning algorithms used in intelligent agents are fair and unbiased?\n> 34. What are the challenges of developing agents that can learn from limited data or noisy data?\n> 35. How can we design agents that can learn continuously and adapt to new information?\n> 36. How can we use reinforcement learning to train agents to make optimal decisions in complex environments?\n> 37. What are the ethical considerations involved in using machine learning algorithms to make decisions about human lives?\n> 38. How can we ensure the security and privacy of data used to train intelligent agents?\n> 39. What are the implications of machine learning for the future of artificial intelligence?\n> 40. How can we use machine learning to develop agents that are capable of creative thinking and problem-solving?\n> \n> **Multi-Agent Systems:**\n> \n> 41. How can we design intelligent agents that can effectively coordinate and collaborate in multi-agent systems?\n> 42. What are the challenges of developing agents that can negotiate and reach agreements in complex environments?\n> 43. How can we ensure that agents in a multi-agent system are able to trust each other and cooperate?\n> 44. How can we design agents that can learn and adapt from the actions of other agents in the system?\n> 45. What are the different types of multi-agent systems and what are their applications?\n> 46. How can we develop agents that can effectively manage conflicts and resolve disagreements in multi-agent systems?\n> 47. How can we design agents that can communicate effectively with each other in multi-agent systems?\n> 48. What are the challenges of developing agents that can operate in open and dynamic multi-agent systems?\n> 49. How can we design agents that can learn and adapt to changes in the environment and the behavior of other agents?\n> 50. How can we ensure the stability and efficiency of multi-agent systems?\n> \n> **Robotics and Embodied Intelligence:**\n> \n> 51. How can we design intelligent agents that can control and operate robotic systems?\n> 52. What are the challenges of developing agents that can interact with the physical world and perform tasks?\n> 53. How can we design agents that can perceive and interpret sensory information from the environment?\n> 54. How can we develop agents that can learn and adapt from their interactions with the physical world?\n> 55. What are the implications of embodied intelligence for the future of robotics and AI?\n> 56. How can we design agents that can move and navigate in complex environments?\n> 57. How can we develop agents that can interact with humans in a safe and effective way?\n> 58. What are the ethical considerations involved in developing robots with advanced intelligence?\n> 59. How can we design agents that can perform tasks that require dexterity and precision?\n> 60. How can we develop agents that can learn and adapt to new environments and tasks?\n> \n> **Game Theory and Strategic Interaction:**\n> \n> 61. How can game theory be used to model and understand the behavior of intelligent agents?\n> 62. What are the different types of games that can be used to study strategic interaction between agents?\n> 63. How can we design agents that can play games effectively and achieve optimal outcomes?\n> 64. What are the implications of game theory for the development of intelligent agents?\n> 65. How can we design agents that can negotiate and reach agreements in strategic interactions?\n> 66. How can we develop agents that can learn and adapt to the strategies of other agents?\n> 67. What are the challenges of designing agents that can operate in environments with incomplete information and uncertainty?\n> 68. How can we design agents that can cooperate and collaborate in strategic interactions?\n> 69. How can we develop agents that can exploit the weaknesses of other agents in strategic interactions?\n> 70. How can we use game theory to understand the dynamics of multi-agent systems?\n> \n> **Cognitive Science and Psychology:**\n> \n> 71. How can insights from cognitive science and psychology be used to inform the design of intelligent agents?\n> 72. How can we design agents that can understand and respond to human emotions?\n> 73. How can we develop agents that can learn and reason like humans?\n> 74. What are the implications of cognitive science for the future of AI?\n> 75. How can we design agents that can exhibit creativity and imagination?\n> 76. How can we develop agents that can understand and interpret human language?\n> 77. How can we design agents that can learn and adapt from human interaction and feedback?\n> 78. What are the challenges of developing agents that can understand and respond to complex social situations?\n> 79. How can we use insights from psychology to understand how humans interact with intelligent agents?\n> 80. What are the ethical considerations involved in creating agents that can mimic human cognition?\n> \n> **Future Directions:**\n> \n> 81. What are the emerging trends in the field of intelligent agents?\n> 82. What are the potential breakthroughs in AI that could lead to the development of more advanced agents?\n> 83. How can we develop agents that can operate in open and unpredictable environments?\n> 84. How can we design agents that are capable of self-awareness and introspection?\n> 85. What are the implications of quantum computing for the development of intelligent agents?\n> 86. How can we develop agents that can understand and interpret complex data from the real world?\n> 87. How can we ensure that future intelligent agents are aligned with human values and goals?\n> 88. What are the potential impacts of artificial general intelligence (AGI) on society?\n> 89. How can we prepare for a future where intelligent agents play an increasingly important role in our lives?\n> 90. What are the long-term goals and aspirations for the field of intelligent agents?\n> \n> **Societal Impact and Implications:**\n> \n> 91. How can we ensure that intelligent agents are used for the benefit of humanity?\n> 92. What are the ethical considerations involved in developing and deploying agents that can make decisions that affect human lives?\n> 93. How can we address the potential risks and challenges associated with the widespread use of intelligent agents?\n> 94. What are the implications of intelligent agents for the future of democracy and governance?\n> 95. How can we ensure that intelligent agents are designed and deployed in a way that respects human dignity and autonomy?\n> 96. How can we promote responsible innovation in the field of intelligent agents?\n> 97. How can we engage the public in a meaningful dialogue about the potential benefits and risks of artificial intelligence?\n> 98. What are the social and economic implications of a future world populated by intelligent agents?\n> 99. How can we ensure that the benefits of intelligent agents are shared equitably across society?\n> 100. How can we use intelligent agents to create a more just, sustainable, and equitable future for all?"
          },
          "metadata": {},
          "execution_count": 8
        }
      ]
    },
    {
      "cell_type": "markdown",
      "source": [
        "### **Diffrent prompting techniques**\n",
        "\n",
        "- Optimization Prompting\n",
        "- Iterative Prompting\n",
        "- Analogical Prompting\n",
        "- Meta-Ask Self-Consistency\n",
        "- ReAct\n",
        "- Symbolic Reasoning\n",
        "- Step-Back Prompting\n",
        "- Input Output Prompting (IO)\n",
        "- Chain-of-Thought (COT) Prompting\n",
        "- Self-Critique\n",
        "- Self-Refinement\n",
        "- Generated Knowledge\n",
        "- Least-to-Most Prompting\n",
        "- PAL\n",
        "- Graph of Thought Graph of Verification\n",
        "- Tree of Thought\n",
        "- Self-Ask\n",
        "- Sequential Prompting\n",
        "- Self-Refine\n",
        "- Automatic Reasoning & Tool-Use (ART)\n",
        "- Plan-and-Solve Prompting\n",
        "- Reverse Json Prompt\n",
        "- MemPrompt\n",
        "- Self Consistency with Chain of Thought (COT-SC)\n",
        "- Chain of Density (COD) Prompt\n",
        "- XOT (Everything of Thought)\n",
        "- KD-COT (Knowledge Driven Chain of Thought)"
      ],
      "metadata": {
        "id": "9KqDxkGJERNQ"
      }
    },
    {
      "cell_type": "code",
      "source": [
        "#Chain-of-Thought Prompting\n",
        "cot_prompt = \"\"\"\n",
        "Let's think step by step about this problem:\n",
        "1. Identify the main components of an intelligent agent.\n",
        "2. Explain how each component works.\n",
        "3. Describe how these components interact to form an intelligent agent.\n",
        "\"\"\"\n",
        "\n",
        "response = model.generate_content(cot_prompt)\n",
        "display(to_markdown(response.text))\n"
      ],
      "metadata": {
        "id": "J7nmHRDqU2sq",
        "colab": {
          "base_uri": "https://localhost:8080/",
          "height": 839
        },
        "outputId": "dd04fe05-cc6f-4559-8ff9-2c93270397f2"
      },
      "execution_count": 9,
      "outputs": [
        {
          "output_type": "display_data",
          "data": {
            "text/plain": [
              "<IPython.core.display.Markdown object>"
            ],
            "text/markdown": "> ## Breaking Down an Intelligent Agent:\n> \n> **1. Main Components:**\n> \n> An intelligent agent is a system that perceives its environment and takes actions to achieve goals. It typically consists of these key components:\n> \n> * **Perception:** This component is responsible for gathering information from the environment through sensors. It could be visual, auditory, tactile, or any other type of sensory input relevant to the agent's task.\n> * **Representation:** This component stores and processes the perceived information in a structured way. It allows the agent to build an internal model of its environment and the relationships between objects and concepts.\n> * **Reasoning:** This component uses the internal representation to make decisions and plan actions based on the current state of the environment and the agent's goals. It involves applying logical rules, drawing inferences, and making predictions about future outcomes.\n> * **Action:** This component executes the decisions made by the reasoning component. It interacts with the environment by sending commands to actuators, such as motors, speakers, or other output devices.\n> * **Learning:** This component allows the agent to improve its performance over time by adapting to new information and experiences. It can learn from past successes and failures, refine its knowledge representation, and develop more effective reasoning strategies.\n> \n> **2. How Each Component Works:**\n> \n> * **Perception:** Sensors capture data from the environment, converting it into a format the agent can understand. For example, a vision system might capture images and identify objects within them, or an audio sensor might record sounds and recognize speech.\n> * **Representation:** The perceived information is organized and structured in a way that makes it meaningful to the agent. This could involve creating a knowledge base, a semantic network, or using machine learning models to encode relationships and patterns.\n> * **Reasoning:** The agent analyzes the information stored in its representation and applies logical rules, algorithms, or heuristics to make decisions. This involves comparing current state to desired goals, identifying potential actions, and evaluating their likely outcomes.\n> * **Action:** The selected actions are executed through actuators, which interact with the environment to produce desired effects. This could involve controlling physical movements, manipulating objects, or sending messages to other systems.\n> * **Learning:** The agent observes the outcomes of its actions and adjusts its knowledge base, reasoning strategies, or action selection mechanisms to improve its performance in the future. This could involve reinforcement learning, supervised learning, or other learning methods.\n> \n> **3. Interaction of Components:**\n> \n> The components of an intelligent agent work together in a continuous loop to achieve its goals:\n> \n> 1. **Perception:** The agent perceives its environment through its sensors.\n> 2. **Representation:** The perceived information is processed and stored in the agent's internal representation.\n> 3. **Reasoning:** The agent reasons about the current state of the environment, its goals, and potential actions.\n> 4. **Action:** The agent selects and executes actions based on its reasoning.\n> 5. **Learning:** The agent observes the outcomes of its actions and uses them to update its internal knowledge and improve its performance over time.\n> \n> This cycle repeats continuously, allowing the agent to adapt to changing environments and learn from its experiences. The interactions between the components create a complex feedback loop that enables the agent to exhibit intelligent behavior.\n> \n> **Example:**\n> \n> Consider a robot vacuum cleaner. Its **sensors** detect dirt and obstacles, **representation** stores a map of the environment, **reasoning** determines the optimal cleaning path, **action** controls the robot's movement and cleaning functions, and **learning** allows it to adapt to new room layouts and cleaning challenges over time.\n> \n> By understanding the individual components and their interactions, we can better comprehend the design and behavior of intelligent agents in various domains, from robotics to artificial intelligence.\n"
          },
          "metadata": {}
        }
      ]
    },
    {
      "cell_type": "markdown",
      "source": [
        "### **Self -Critique**"
      ],
      "metadata": {
        "id": "2t6QkjYyINYY"
      }
    },
    {
      "cell_type": "code",
      "source": [
        "#Self -Critique\n",
        "\n",
        "self_critique_prompt = \"\"\"\n",
        "Generate a description of an intelligent agent.\n",
        "Then, critique the description and suggest improvements.\n",
        "\"\"\"\n",
        "\n",
        "response = model.generate_content(self_critique_prompt)\n",
        "display(to_markdown(response.text))\n"
      ],
      "metadata": {
        "id": "cVLWpiDaVE0T",
        "colab": {
          "base_uri": "https://localhost:8080/",
          "height": 629
        },
        "outputId": "aab671f0-ad87-48a5-bfbb-7536fb4e38b7"
      },
      "execution_count": 10,
      "outputs": [
        {
          "output_type": "display_data",
          "data": {
            "text/plain": [
              "<IPython.core.display.Markdown object>"
            ],
            "text/markdown": "> ## Description of an Intelligent Agent:\n> \n> An intelligent agent is a system that can perceive its environment, learn from its experiences, and take actions to achieve its goals. It operates autonomously, using its knowledge and reasoning capabilities to make decisions and adapt to changing circumstances.  These agents can range from simple programs like chatbots to complex systems like self-driving cars.\n> \n> **Critique:**\n> \n> While this description captures the basic concept of an intelligent agent, it lacks some crucial details and could be improved upon:\n> \n> **1. Vagueness of \"Perceive\" and \"Learn\":** The description uses vague terms like \"perceive\" and \"learn\" without specifying the methods or mechanisms involved. It would be more informative to elaborate on these aspects, for example, by mentioning sensors, data processing, and machine learning techniques.\n> \n> **2. Lack of Specificity on \"Goals\":**  The description simply states that agents have \"goals\" but doesn't elaborate on their nature or origin.  It's important to mention that goals can be predefined by humans, learned through experience, or a combination of both.\n> \n> **3. Limited Scope of \"Actions\":** The description only mentions taking actions, without specifying the range or complexity.  It would be beneficial to mention that actions can include physical manipulation, information gathering, communication, and other behaviors depending on the agent's purpose.\n> \n> **4. Oversimplification of Autonomy:** While autonomy is a key characteristic, the description doesn't fully capture the complexity of its implementation.  It would be helpful to mention different levels of autonomy, from fully autonomous agents to agents that require human input or oversight.\n> \n> **5.  Lack of Emphasis on \"Intelligence\":**  The description focuses more on the functionality of an agent rather than its intelligence.  It would be more compelling to highlight the cognitive capabilities that differentiate intelligent agents from simple programs, such as reasoning, problem-solving, and decision-making under uncertainty.\n> \n> ## Improved Description:\n> \n> An intelligent agent is a system that interacts with its environment, perceives data through sensors and other input methods, and uses knowledge, reasoning, and learning algorithms to achieve its goals. These goals can be predefined by humans or learned through experience.  Agents can exhibit varying levels of autonomy, ranging from fully independent systems to those that require human input or oversight. Their actions can include physical manipulation, information gathering, communication, and other behaviors depending on their purpose.  The hallmark of an intelligent agent lies in its cognitive capabilities, including reasoning, problem-solving, and decision-making under uncertainty, which enable it to adapt to changing environments and achieve complex tasks.\n> \n> This improved description is more specific, elaborate, and captures the key features of an intelligent agent in a more comprehensive manner. It also emphasizes the importance of cognitive capabilities and provides a clearer understanding of the different aspects of autonomy and goal-oriented behavior.\n"
          },
          "metadata": {}
        }
      ]
    },
    {
      "cell_type": "markdown",
      "source": [
        "### **Iterative-Prompting**"
      ],
      "metadata": {
        "id": "q9ODP2XNIT1Z"
      }
    },
    {
      "cell_type": "code",
      "source": [
        "#Iterative-Prompting\n",
        "\n",
        "initial_prompt = \"Describe the components of an intelligent agent.\"\n",
        "response = model.generate_content(initial_prompt)\n",
        "display(to_markdown(response.text))\n",
        "\n",
        "# Refine based on the initial response\n",
        "refined_prompt = f\"\"\"\n",
        "Based on the previous description:\n",
        "{response.text}\n",
        "Can you elaborate more on the interaction between these components?\n",
        "\"\"\"\n",
        "\n",
        "response = model.generate_content(refined_prompt)\n",
        "display(to_markdown(response.text))\n"
      ],
      "metadata": {
        "id": "V_VtaeTjVTjh",
        "colab": {
          "base_uri": "https://localhost:8080/",
          "height": 1000
        },
        "outputId": "0ded1d72-8508-4b82-9ea7-d2cb0678cdde"
      },
      "execution_count": 11,
      "outputs": [
        {
          "output_type": "display_data",
          "data": {
            "text/plain": [
              "<IPython.core.display.Markdown object>"
            ],
            "text/markdown": "> An intelligent agent is a system that can perceive its environment, learn from experience, and make decisions to achieve its goals. It's like a software robot that can act autonomously. Here's a breakdown of its key components:\n> \n> **1. Architecture:**\n> \n> * **Perception:**  The agent must be able to sense its environment through sensors (like cameras, microphones, or data feeds). This component gathers raw information.\n> * **Representation:** The agent needs a way to internally represent the information it perceives. This can include building models of the environment, storing data, and using knowledge structures.\n> * **Reasoning/Planning:** The agent needs to process information and make decisions about how to act. This involves applying logic, reasoning, and planning to achieve its goals.\n> * **Action:** The agent needs a way to interact with its environment and execute actions based on its decisions. This can involve controlling physical actuators (like motors or grippers) or manipulating data.\n> \n> **2. Capabilities:**\n> \n> * **Learning:** Intelligent agents can learn from experience, improve their performance over time, and adapt to changes in the environment. This can involve machine learning techniques, reinforcement learning, or other forms of adaptation.\n> * **Communication:** The agent may need to communicate with other agents or humans. This requires mechanisms for language processing, natural language understanding, and communication protocols.\n> * **Goal-Oriented:** Intelligent agents are driven by goals. They need a clear definition of what they are trying to achieve and how to measure success.\n> * **Autonomy:** Agents should be able to operate independently, making decisions and taking actions without constant human intervention.\n> \n> **Example:**\n> \n> Think of a self-driving car. \n> \n> * **Perception:** Cameras, sensors, and radar collect information about the road, traffic, and other vehicles.\n> * **Representation:** The car builds a map of its surroundings, tracks the positions of other vehicles, and uses data about traffic laws.\n> * **Reasoning/Planning:** The car uses algorithms to plan its route, anticipate potential hazards, and make decisions about speed and lane changes.\n> * **Action:** The car uses its steering wheel, brakes, and accelerator to navigate the road and avoid collisions.\n> * **Learning:** Over time, the car can learn from its experience, improve its route planning, and adapt to changing traffic conditions.\n> \n> **Key Takeaway:**\n> \n> An intelligent agent is a system that combines perception, representation, reasoning, and action to achieve goals in a dynamic environment. It leverages capabilities like learning, communication, and autonomy to effectively interact with the world and achieve its objectives.\n"
          },
          "metadata": {}
        },
        {
          "output_type": "display_data",
          "data": {
            "text/plain": [
              "<IPython.core.display.Markdown object>"
            ],
            "text/markdown": "> You're right, the interaction between these components is crucial for an intelligent agent's functionality. Here's a more detailed explanation:\n> \n> **1. A Continuous Cycle:**\n> \n> The core of an intelligent agent is a continuous loop:\n> \n> * **Perception:** The agent starts by perceiving its environment through its sensors. This information is raw and unprocessed.\n> * **Representation:** This raw data is then transformed into a meaningful internal representation. This could involve:\n>     * **Building models:**  The agent might create a 3D model of its surroundings, a representation of traffic flow, or a map of the environment.\n>     * **Storing data:**  The agent might store data about previous experiences, learned patterns, or known facts about the environment.\n>     * **Using knowledge structures:** The agent might employ structured knowledge bases or rule systems to represent relationships and concepts.\n> * **Reasoning/Planning:**  Based on the internal representation, the agent uses reasoning and planning algorithms to:\n>     * **Analyze the current situation:**  The agent evaluates its environment, recognizes patterns, and assesses potential risks or opportunities.\n>     * **Generate actions:** The agent decides on the best course of action based on its goals and the current situation. This might involve calculating optimal paths, predicting future events, or weighing potential outcomes.\n> * **Action:** The agent executes the chosen action using its actuators. This could involve:\n>     * **Physical actions:** For a robot, this could mean moving its limbs, manipulating objects, or speaking.\n>     * **Data manipulation:** For a software agent, this could involve updating databases, sending messages, or triggering other processes.\n> \n> **2. Feedback and Learning:**\n> \n> This loop isn't static. The agent receives feedback from the environment after taking an action. This feedback could be:\n> \n> * **Direct consequences of the action:** Did the action achieve its desired outcome? Did it result in any unexpected consequences?\n> * **Changes in the environment:** Did the environment change in a way that requires the agent to adapt its plan?\n> \n> This feedback is then used to:\n> \n> * **Refine the internal representation:** The agent updates its models, knowledge structures, and data based on new information.\n> * **Improve future decisions:** The agent learns from its experiences, adjusting its reasoning and planning processes for better outcomes in the future. This could involve adjusting its goal priorities, refining its knowledge base, or improving its action selection algorithms.\n> \n> **3. Interdependence:**\n> \n> It's essential to understand that these components are deeply interconnected and interdependent:\n> \n> * **Perception drives representation:**  The accuracy and completeness of the agent's perception directly impact the quality of its internal representation.\n> * **Representation guides reasoning:**  The way the agent represents information influences its ability to reason effectively.\n> * **Reasoning shapes action:**  The reasoning process determines which actions the agent takes.\n> * **Action modifies the environment:**  The agent's actions can change the environment, affecting future perceptions and requiring adaptation.\n> * **Learning enhances all components:**  Learning allows the agent to improve its perception, representation, reasoning, and action execution over time.\n> \n> **Conclusion:**\n> \n> This intricate interplay between perception, representation, reasoning, action, and learning forms the foundation of intelligent agents. By continuously interacting with the environment and learning from experience, these agents can achieve their goals, adapt to changing circumstances, and ultimately exhibit intelligent behavior. \n"
          },
          "metadata": {}
        }
      ]
    },
    {
      "cell_type": "markdown",
      "source": [
        "### **Analogical-Prompting**"
      ],
      "metadata": {
        "id": "_JsPQQAHIZ3n"
      }
    },
    {
      "cell_type": "code",
      "source": [
        "#Analogical-Prompting\n",
        "\n",
        "analogical_prompt = \"\"\"\n",
        "Describe an intelligent agent by comparing it to a human being.\n",
        "Explain the similarities and differences.\n",
        "\"\"\"\n",
        "\n",
        "response = model.generate_content(analogical_prompt)\n",
        "display(to_markdown(response.text))\n"
      ],
      "metadata": {
        "id": "T9dWoxbBVegk",
        "colab": {
          "base_uri": "https://localhost:8080/",
          "height": 550
        },
        "outputId": "19e0c94b-6aed-4ee1-a55b-ed0cd9299c7b"
      },
      "execution_count": 12,
      "outputs": [
        {
          "output_type": "display_data",
          "data": {
            "text/plain": [
              "<IPython.core.display.Markdown object>"
            ],
            "text/markdown": "> ##  Intelligent Agent vs Human: A Comparison\n> \n> An intelligent agent, like a human, is an entity that can perceive its environment, learn from experience, and act autonomously to achieve specific goals. However, despite this shared functionality, they differ significantly in their nature and capabilities.\n> \n> **Similarities:**\n> \n> * **Goal-Oriented:** Both intelligent agents and humans strive to achieve certain goals. Humans might aim for happiness, financial security, or social recognition, while an agent could be programmed to optimize traffic flow, predict stock prices, or win a chess game.\n> * **Perception:** Both can perceive their environment through various sensors. Humans use their senses, while agents can utilize cameras, microphones, or other sensors to gather information.\n> * **Learning:** Both can adapt and improve their performance based on experience. Humans learn through education, observation, and trial and error, while agents use algorithms to learn from data sets and improve their decision-making processes.\n> * **Decision Making:** Both make decisions based on available information and their goals. Humans use intuition, logic, and emotional factors, while agents use algorithms and predefined decision trees.\n> \n> **Differences:**\n> \n> * **Consciousness and Emotions:** Humans are conscious beings with complex emotions and feelings, which influence their actions and decision-making. Intelligent agents, on the other hand, lack consciousness and emotions, acting purely based on programmed logic and algorithms.\n> * **Creativity and Innovation:** Humans exhibit creativity and imagination, allowing them to develop novel solutions and concepts. While some agents can generate variations on existing patterns, they lack the true creative spark of a human mind.\n> * **Social Interaction:** Humans are social beings, engaging in complex interactions with others, building relationships, and understanding social norms. While some agents can interact with humans through natural language processing and generate responses, they lack the nuanced social understanding and empathy of humans.\n> * **Physical Embodiment:** Humans have physical bodies and can interact with the physical world through movement and manipulation. Intelligent agents exist primarily in the digital realm, interacting with the physical world through external mechanisms or control systems.\n> \n> **In conclusion:**\n> \n> Intelligent agents are powerful tools that can perform many tasks efficiently and effectively. However, they lack the complexity, creativity, and social intelligence that make humans unique. They are not meant to replace humans but rather to complement and augment human capabilities, offering assistance in various tasks and providing new perspectives on existing problems. \n"
          },
          "metadata": {}
        }
      ]
    },
    {
      "cell_type": "code",
      "source": [
        "#@title **Self-Refinement**\n",
        "\n",
        "\n",
        "self_refine_prompt = \"\"\"\n",
        "Describe an intelligent agent.\n",
        "Then, refine the description to make it clearer and more detailed.\n",
        "\"\"\"\n",
        "\n",
        "response = model.generate_content(self_refine_prompt)\n",
        "display(to_markdown(response.text))\n"
      ],
      "metadata": {
        "id": "zNSM1LrMVkWy",
        "colab": {
          "base_uri": "https://localhost:8080/",
          "height": 658
        },
        "outputId": "cd5966a0-6f70-4078-b0a9-a3d7ea17e7f4"
      },
      "execution_count": 13,
      "outputs": [
        {
          "output_type": "display_data",
          "data": {
            "text/plain": [
              "<IPython.core.display.Markdown object>"
            ],
            "text/markdown": "> ## An Intelligent Agent: The Basics\n> \n> An intelligent agent is a system that can perceive its environment, process information, and act autonomously to achieve its goals. Think of it as a computer program with a mind of its own, capable of making decisions and taking actions based on its understanding of the world.\n> \n> ## A Refined Description of an Intelligent Agent:\n> \n> **1. Perception:** Intelligent agents possess **sensors** that allow them to gather information about their environment. This can include visual data, auditory data, temperature, pressure, and much more. The specific senses an agent has depend on its purpose and the environment it operates in.\n> \n> **2. Information Processing:** Agents utilize a **knowledge base** and **reasoning capabilities** to process the perceived information. This involves:\n> \n> * **Learning:**  Agents can learn from their experiences and adapt their behavior over time.\n> * **Decision Making:** They analyze the gathered information and make decisions based on their knowledge and goals.\n> * **Planning:** They create strategies and plans for achieving their goals, taking into account potential obstacles and uncertainties.\n> \n> **3. Autonomous Action:** Agents have **effectors** that allow them to interact with their environment. These effectors can range from simple actions like moving a robotic arm to complex operations like controlling a self-driving car.\n> \n> **4. Goals and Objectives:** Every intelligent agent has a specific purpose or goal. This goal might be simple, like keeping a room temperature stable, or complex, like playing a winning game of chess.\n> \n> **5. Different Types of Agents:** \n> * **Reactive Agents:** These agents react directly to their environment without internal models or planning.\n> * **Goal-Based Agents:** These agents have goals and strive to achieve them through planning and reasoning.\n> * **Learning Agents:** These agents can improve their performance over time through learning and adaptation.\n> \n> **Examples of Intelligent Agents:**\n> \n> * **Chatbots:** These agents communicate with humans in natural language and can be used for customer service, entertainment, or information retrieval.\n> * **Self-driving cars:** These agents perceive their environment, make decisions about navigation and safety, and control the vehicle.\n> * **Personal assistants:** These agents help users with tasks such as scheduling appointments, setting reminders, and finding information.\n> * **Game-playing AIs:** These agents excel at playing strategic games like chess, Go, and StarCraft.\n> \n> **Key Takeaways:**\n> \n> * Intelligent agents are autonomous systems that perceive their environment, process information, and act to achieve goals.\n> * They exhibit learning, decision-making, and planning capabilities.\n> * They come in various types, each suited for different tasks and environments.\n> * Intelligent agents are revolutionizing various industries, from healthcare to transportation."
          },
          "metadata": {}
        }
      ]
    },
    {
      "cell_type": "markdown",
      "source": [
        "### **Step-Back Prompting**"
      ],
      "metadata": {
        "id": "PuVEnlfQIiGP"
      }
    },
    {
      "cell_type": "code",
      "source": [
        "#Step-Back Promptin\n",
        "\n",
        "step_back_prompt = \"\"\"\n",
        "Describe an intelligent agent.\n",
        "Now, take a step back and review your description.\n",
        "What improvements or clarifications can you make?\n",
        "\"\"\"\n",
        "\n",
        "response = model.generate_content(step_back_prompt)\n",
        "display(to_markdown(response.text))\n"
      ],
      "metadata": {
        "id": "fG2g8aiwVn7N",
        "colab": {
          "base_uri": "https://localhost:8080/",
          "height": 734
        },
        "outputId": "82648738-8c46-47aa-c7d9-7be7cceec79f"
      },
      "execution_count": 14,
      "outputs": [
        {
          "output_type": "display_data",
          "data": {
            "text/plain": [
              "<IPython.core.display.Markdown object>"
            ],
            "text/markdown": "> ## An Intelligent Agent:\n> \n> An intelligent agent is a system that perceives its environment, processes information, and takes actions to achieve goals. It can be as simple as a thermostat regulating room temperature or as complex as a self-driving car navigating traffic. \n> \n> **Key characteristics include:**\n> \n> * **Autonomy:** The agent can operate independently without constant human intervention.\n> * **Perception:** The agent gathers information from its environment using sensors or other input mechanisms.\n> * **Reasoning:** The agent processes information and makes decisions based on its knowledge and goals.\n> * **Action:** The agent takes actions in the environment based on its decisions.\n> * **Learning:** The agent can adapt its behavior over time based on experience.\n> \n> ## Reviewing and Improving:\n> \n> While the above description provides a general overview, it lacks some important nuances and could be improved:\n> \n> **1. Scope:** The definition could be more precise in specifying the scope of intelligence. It's important to distinguish between weak AI (agents performing specific tasks) and strong AI (agents capable of human-level intelligence). This distinction affects the expectations and limitations we associate with intelligent agents.\n> \n> **2. Environment:** The definition mentions \"environment\" but doesn't elaborate on its nature. Environments can be physical (like a real world) or virtual (like a computer game). Specifying the type of environment clarifies the agent's context and the nature of its interaction with the world.\n> \n> **3. Goal-Oriented Behavior:** While the definition mentions goals, it doesn't explicitly state that agents are **goal-oriented**. This is crucial as it distinguishes them from simple reactive systems that only respond to stimuli. Agents actively pursue goals and make decisions based on their desirability.\n> \n> **4. Rationality:**  The definition mentions reasoning and decision-making but doesn't mention rationality.  Agents are typically assumed to be rational, meaning they make decisions that maximize their chances of achieving their goals. This aspect is essential for understanding how agents make choices and prioritize actions.\n> \n> **5. Different Agent Types:** The definition could acknowledge the diversity of intelligent agents. There are different types, like:\n> \n> * **Reflex agents:** Respond directly to stimuli without planning or reasoning.\n> * **Model-based agents:** Develop internal models of the world to predict outcomes and make informed decisions.\n> * **Goal-based agents:**  Act to achieve specific goals.\n> * **Utility-based agents:**  Maximize expected utility, considering the value of different outcomes.\n> \n> **6. The Role of Learning:** The definition mentions learning but could emphasize its importance. Learning is crucial for adapting to changing environments, overcoming unforeseen challenges, and improving performance over time.\n> \n> **Improved Definition:**\n> \n> An intelligent agent is a **goal-oriented** system that **perceives** its environment, **reasons** about the world, and takes **actions** to achieve its goals.  It operates **autonomously** and can be **rational**, **adapting** its behavior through **learning** to achieve its objectives. This definition acknowledges the diverse types of agents, highlighting their **purposeful** nature and ability to **learn** and **adapt** within a specific **environment**.\n"
          },
          "metadata": {}
        }
      ]
    },
    {
      "cell_type": "code",
      "source": [
        "#@title **Plan-and-Solve Prompting**\n",
        "\n",
        "plan_solve_prompt = \"\"\"\n",
        "Before solving the problem of designing an intelligent agent, outline a plan:\n",
        "1. Define the problem.\n",
        "2. Identify the components needed.\n",
        "3. Explain the interactions between components.\n",
        "4. Describe the overall design.\n",
        "Then, proceed to solve the problem based on this plan.\n",
        "\"\"\"\n",
        "\n",
        "response = model.generate_content(plan_solve_prompt)\n",
        "display(to_markdown(response.text))\n"
      ],
      "metadata": {
        "id": "oG9h92j0VtXp",
        "colab": {
          "base_uri": "https://localhost:8080/",
          "height": 1000
        },
        "outputId": "a8f148e1-7b8a-4885-b5fb-e04fc45f04f7"
      },
      "execution_count": 15,
      "outputs": [
        {
          "output_type": "display_data",
          "data": {
            "text/plain": [
              "<IPython.core.display.Markdown object>"
            ],
            "text/markdown": "> ## Designing an Intelligent Agent: A Plan and Solution\n> \n> ### 1. Define the Problem\n> \n> We want to design an intelligent agent capable of **solving a specific problem**, like playing chess, navigating a maze, or answering questions. To ensure clarity, let's focus on the **maze navigation problem**. \n> \n> Our agent's goal is to **find the shortest path from a starting point to a goal point in a given maze**. It should be able to **perceive the environment**, **plan its actions**, and **execute them efficiently**.\n> \n> ### 2. Identify the Components Needed\n> \n> Our agent will require the following components:\n> \n> * **Perception:** A mechanism to sense the environment. In this case, it could be a sensor that detects walls and open spaces in the maze.\n> * **Knowledge Base:** A representation of the maze's layout, including information about walls, paths, and the agent's current position.\n> * **Planning:** A module to generate a sequence of actions that lead the agent from its current position to the goal.\n> * **Action Execution:** A module to execute the planned actions, moving the agent in the environment.\n> * **Learning:** An optional component that allows the agent to learn from past experiences and improve its performance over time.\n> \n> ### 3. Explain the Interactions Between Components\n> \n> * The **Perception** component gathers information from the environment and updates the **Knowledge Base**.\n> * The **Knowledge Base** stores the agent's understanding of the maze and provides information to the **Planning** module.\n> * The **Planning** module uses the knowledge base to generate a sequence of actions that leads to the goal.\n> * The **Action Execution** module receives the planned actions and commands the agent to move accordingly.\n> * The **Learning** component (if implemented) observes the outcomes of actions and updates the knowledge base or planning strategy to improve future performance.\n> \n> ### 4. Describe the Overall Design\n> \n> The overall design can be visualized as a loop:\n> \n> 1. **Perception:** The agent perceives the environment and updates the knowledge base.\n> 2. **Planning:** The agent uses the knowledge base to plan a path to the goal.\n> 3. **Action Execution:** The agent executes the planned actions.\n> 4. **Learning:** (Optional) The agent evaluates the outcome of its actions and adjusts its behavior for future situations.\n> 5. **Repeat steps 1-4** until the goal is reached.\n> \n> ### Solving the Maze Navigation Problem\n> \n> We can utilize various algorithms and techniques to build the agent's components:\n> \n> * **Perception:** Simple sensors can be implemented to detect walls and open spaces, updating the knowledge base with the corresponding information.\n> * **Knowledge Base:** A grid-based representation of the maze, where each cell represents a space in the maze, can be used. Walls are marked as obstacles, and the agent's current position is updated after each move.\n> * **Planning:** We can implement a search algorithm like **Breadth-First Search (BFS)** to find the shortest path from the starting point to the goal. BFS explores the maze level by level, expanding from the starting point until it finds the goal.\n> * **Action Execution:** This module simply takes the actions generated by the planning module (move up, down, left, right) and executes them in the environment, updating the agent's position in the knowledge base.\n> * **Learning:** While not mandatory for a basic solution, we can introduce a simple form of learning by keeping track of paths that have been explored and favoring those paths in future planning.\n> \n> **Example Implementation:**\n> \n> Let's assume a simple 5x5 maze with walls represented by 'W' and open spaces by 'O'. Our agent starts at position (1,1) and aims to reach (4,4):\n> \n> ```\n> W W W W W\n> W O O O W\n> W O W W W\n> W O O O W\n> W W W W W\n> ```\n> \n> **1. Perception:** The agent senses its immediate surroundings, detecting walls and open spaces.\n> **2. Knowledge Base:** The agent updates its internal representation of the maze, marking the starting position and known walls.\n> **3. Planning:** Using BFS, the agent finds the shortest path from (1,1) to (4,4).\n> **4. Action Execution:** The agent follows the planned path, moving through the maze until it reaches the goal.\n> **5. Learning:** (Optional) The agent remembers the path it took and might favor similar routes in the future.\n> \n> By iterating through these steps, the agent will successfully navigate the maze and reach its goal.\n> \n> This is a basic outline of an intelligent agent for maze navigation. The specific implementation can be further refined using various techniques like reinforcement learning, graph search algorithms, and advanced sensor models.\n"
          },
          "metadata": {}
        }
      ]
    },
    {
      "cell_type": "code",
      "source": [],
      "metadata": {
        "id": "GD8Yxz_dDvhH"
      },
      "execution_count": 15,
      "outputs": []
    },
    {
      "cell_type": "code",
      "source": [],
      "metadata": {
        "id": "jnl2qIqwI7OW"
      },
      "execution_count": null,
      "outputs": []
    },
    {
      "cell_type": "code",
      "source": [],
      "metadata": {
        "id": "exRrLfbMI7Rl"
      },
      "execution_count": null,
      "outputs": []
    },
    {
      "cell_type": "code",
      "source": [],
      "metadata": {
        "id": "dfYdJFC9I7UV"
      },
      "execution_count": null,
      "outputs": []
    },
    {
      "cell_type": "code",
      "source": [],
      "metadata": {
        "id": "skNvhdeGI7XX"
      },
      "execution_count": null,
      "outputs": []
    },
    {
      "cell_type": "code",
      "source": [],
      "metadata": {
        "id": "o_1pNvZdI7b6"
      },
      "execution_count": null,
      "outputs": []
    },
    {
      "cell_type": "code",
      "source": [],
      "metadata": {
        "id": "soPp1t-JI7ew"
      },
      "execution_count": null,
      "outputs": []
    },
    {
      "cell_type": "code",
      "source": [],
      "metadata": {
        "id": "-B2v_hrQI7hc"
      },
      "execution_count": null,
      "outputs": []
    },
    {
      "cell_type": "code",
      "source": [],
      "metadata": {
        "id": "KmvfBBz-I7j2"
      },
      "execution_count": null,
      "outputs": []
    },
    {
      "cell_type": "code",
      "source": [],
      "metadata": {
        "id": "T8Bs8ctFDvjr"
      },
      "execution_count": 15,
      "outputs": []
    }
  ]
}